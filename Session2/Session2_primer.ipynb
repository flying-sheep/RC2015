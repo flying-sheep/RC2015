{
 "metadata": {
  "name": ""
 },
 "nbformat": 3,
 "nbformat_minor": 0,
 "worksheets": [
  {
   "cells": [
    {
     "cell_type": "markdown",
     "metadata": {},
     "source": [
      "# Things to do until next week\n",
      "\n",
      "## Python\n",
      "- install some python stack\n",
      "    - python, ipython, numpy, scipy, matplotlib, seaborn\n",
      "    - e.g. [anaconda](https://store.continuum.io/cshop/anaconda/)\n",
      "- get familiar with python\n",
      "    - basic synthax\n",
      "    - numpy for array operations\n",
      "    - scipy for some stats\n",
      "    - some plotting\n",
      "\n",
      "## Excercise\n",
      "- read next weeks' paper : \n",
      "    - Till, J. E., McCulloch, E. a. & Siminovitch, L. **A stochastic model of stem cell proliferation, based on the growth of spleen colony-forming cells**. Proc. Natl. Acad. Sci. U. S. A. 51, 29\u201336 (1964).\n",
      "<img src=\"files/TillFig67.png\" alt=\"Drawing\" style=\"width: 900px;\"/>\n",
      "- get this **notebook** (I'll send around a link later)\n",
      "- make sure the notebook works for you (dependencies on some libraries)\n",
      "- understand how **simulateTree(p0, nGens)** works and use it to **simulate 500 trees of 10 generations each** (p0=0.4)\n",
      "- plot the **distribution of clonesize** over time (violin plot e.g.):\n",
      "\n",
      "![someError](files/clonesize_over_time.png)"
     ]
    },
    {
     "cell_type": "heading",
     "level": 2,
     "metadata": {},
     "source": [
      "Till/McCulloch model simulation"
     ]
    },
    {
     "cell_type": "code",
     "collapsed": false,
     "input": [
      "import numpy as np # <- efficient vector/matrix operations (similar to MATLAB)\n",
      "\n",
      "# the next ones are not required here, but might become useful later on, check if they're installed\n",
      "import matplotlib as plt # <- basic plotting\n",
      "import seaborn as sns    # <- fancy plotting\n",
      "import pandas as pd      # <- a powerful data analysis and manipulation library for Python\n",
      "import sklearn           # <- machine learning libray\n",
      "import scipy             # <- scientific computing in general\n",
      "import sympy             # <- symbolic calculations\n",
      "\n",
      "'---------------------------------------------'\n",
      "\n",
      "def simulateTree(p0, nGens):\n",
      "    \"\"\"\n",
      "    simulates a single tree from the Till/McCulloch model\n",
      "    \n",
      "    inputs:\n",
      "        p0: probability that a single cell undergoes terminal differentiation (i.e. no more division)\n",
      "        nGens: number of generations to simulate\n",
      "    \n",
      "    returns: \n",
      "        a list (one element per generation) of single cells present at that generation.\n",
      "        a single element is just an array of cells present at that time \n",
      "        (zeros for stem cells, 1s for differentiated cells).\n",
      "    \"\"\"\n",
      "    \n",
      "    # cell state is either 0 (stem cell) or 1 (differentiated),\n",
      "    # which is the only thing we keep track of here\n",
      "    \n",
      "    theGenerations = list()\n",
      "    theGenerations.append(np.array(0))\n",
      "    \n",
      "    for g in range(nGens):\n",
      "    \n",
      "        lastGen = theGenerations[-1]\n",
      "        \n",
      "        # for each of the last generation, roll a dice whether it terminally diffs\n",
      "        newState = roll_the_dice(lastGen, p0)\n",
      "        \n",
      "        #all the zeros divide, the 1's just stay\n",
      "        n0 = sum(newState==0) # beware: this is pythons interal sum(), not the one from numpy (which is loads fasters)\n",
      "        n1 = sum(newState==1) # however, speed doesnt really matter here\n",
      "        nextGen = np.concatenate([np.repeat(0, 2*n0), np.repeat(1,n1)])\n",
      "\n",
      "        theGenerations.append(nextGen)\n",
      "\n",
      "    return theGenerations\n",
      "\n",
      "\n",
      "def roll_the_dice(cellstate_array, p0):\n",
      "    \"\"\"\n",
      "    decide if a cell goes from 0->1 (wit probability p0)\n",
      "    does that for an entire vector of zeros and ones in paralell\n",
      "    \"\"\"\n",
      "    # helper function so that we can index into it via generation\n",
      "    # makes sure that as soon as cell_state==1 it wont change anymore\n",
      "    tmpP = np.array([p0, 1])     \n",
      "    p = tmpP[cellstate_array]\n",
      "    \n",
      "    r = np.random.rand(cellstate_array.size)\n",
      "    \n",
      "    newGeneration = r<p\n",
      "    \n",
      "    return newGeneration.astype(int)"
     ],
     "language": "python",
     "metadata": {},
     "outputs": [],
     "prompt_number": 3
    },
    {
     "cell_type": "code",
     "collapsed": false,
     "input": [
      "# Example call\n",
      "aSingleTree = simulateTree(p0=0.1, nGens=5)\n",
      "\n",
      "print aSingleTree # just a list of numpy.arrays"
     ],
     "language": "python",
     "metadata": {},
     "outputs": [
      {
       "output_type": "stream",
       "stream": "stdout",
       "text": [
        "[array(0), array([0, 0]), array([0, 0, 0, 0]), array([0, 0, 0, 0, 0, 0, 1]), array([0, 0, 0, 0, 0, 0, 0, 0, 1, 1, 1]), array([0, 0, 0, 0, 0, 0, 0, 0, 0, 0, 0, 0, 0, 0, 0, 0, 1, 1, 1])]\n"
       ]
      }
     ],
     "prompt_number": 2
    },
    {
     "cell_type": "markdown",
     "metadata": {},
     "source": [
      "#TODO\n",
      "\n",
      "- simulate 500 trees (10 generations, p0=0.4)\n",
      "- get the clone size distribution over time. clone size is just the number of cells in a given generation\n",
      "- plot it, e.g. simple boxplots, violin plots(seaborn)"
     ]
    },
    {
     "cell_type": "code",
     "collapsed": false,
     "input": [],
     "language": "python",
     "metadata": {},
     "outputs": []
    }
   ],
   "metadata": {}
  }
 ]
}